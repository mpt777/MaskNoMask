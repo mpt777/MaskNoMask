{
 "cells": [
  {
   "cell_type": "code",
   "execution_count": 4,
   "metadata": {
    "execution": {
     "iopub.execute_input": "2020-11-05T16:05:24.246Z",
     "iopub.status.busy": "2020-11-05T16:05:24.241Z",
     "iopub.status.idle": "2020-11-05T16:05:26.597Z",
     "shell.execute_reply": "2020-11-05T16:05:26.624Z"
    },
    "jupyter": {
     "outputs_hidden": false,
     "source_hidden": false
    },
    "nteract": {
     "transient": {
      "deleting": false
     }
    }
   },
   "outputs": [],
   "source": [
    "import numpy as np\n",
    "import pandas as pd\n",
    "import tensorflow as tf\n",
    "import keras\n",
    "from tensorflow.keras import layers\n",
    "import matplotlib.pyplot as plt\n",
    "%matplotlib inline"
   ]
  },
  {
   "cell_type": "code",
   "execution_count": null,
   "metadata": {
    "execution": {
     "iopub.execute_input": "2020-11-05T16:05:26.605Z",
     "iopub.status.busy": "2020-11-05T16:05:26.602Z",
     "iopub.status.idle": "2020-11-05T16:05:26.610Z",
     "shell.execute_reply": "2020-11-05T16:05:26.626Z"
    },
    "jupyter": {
     "outputs_hidden": false,
     "source_hidden": false
    },
    "nteract": {
     "transient": {
      "deleting": false
     }
    }
   },
   "outputs": [],
   "source": [
    "batch_size = 40\n",
    "img_height = 200\n",
    "img_width = 200\n",
    "tf.version.VERSION"
   ]
  },
  {
   "cell_type": "markdown",
   "metadata": {
    "nteract": {
     "transient": {
      "deleting": false
     }
    }
   },
   "source": [
    "Keras dataset preprocessing utilities, located at tf.keras.preprocessing, help you go from raw data on disk to a tf.data.Dataset object that can be used to train a model.\n",
    "\n",
    "See https://keras.io/api/preprocessing/\n",
    "\n",
    "Once the dataset is preprocessed and loaded, it can be directly used in calls to model.fit\n",
    "\n"
   ]
  },
  {
   "cell_type": "code",
   "execution_count": null,
   "metadata": {
    "execution": {
     "iopub.execute_input": "2020-11-05T16:05:26.620Z",
     "iopub.status.busy": "2020-11-05T16:05:26.616Z",
     "iopub.status.idle": "2020-11-05T16:05:27.031Z",
     "shell.execute_reply": "2020-11-05T16:05:27.047Z"
    },
    "jupyter": {
     "outputs_hidden": false,
     "source_hidden": false
    },
    "nteract": {
     "transient": {
      "deleting": false
     }
    }
   },
   "outputs": [],
   "source": [
    "## loading training data\n",
    "training_ds = tf.keras.preprocessing.image_dataset_from_directory(\n",
    "    'data/MaskNoMask',\n",
    "    validation_split=0.2,\n",
    "    subset= \"training\",\n",
    "    seed=42,\n",
    "    image_size= (img_height, img_width),\n",
    "    batch_size=batch_size\n",
    "\n",
    ")"
   ]
  },
  {
   "cell_type": "code",
   "execution_count": null,
   "metadata": {
    "execution": {
     "iopub.execute_input": "2020-11-05T16:05:27.038Z",
     "iopub.status.busy": "2020-11-05T16:05:27.035Z",
     "iopub.status.idle": "2020-11-05T16:05:27.399Z",
     "shell.execute_reply": "2020-11-05T16:05:27.445Z"
    },
    "jupyter": {
     "outputs_hidden": false,
     "source_hidden": false
    },
    "nteract": {
     "transient": {
      "deleting": false
     }
    }
   },
   "outputs": [],
   "source": [
    "## loading testing data\n",
    "testing_ds = tf.keras.preprocessing.image_dataset_from_directory(\n",
    "'data/MaskNoMask',\n",
    "    validation_split=0.2,\n",
    "    subset= \"validation\",\n",
    "    seed=42,\n",
    "    image_size= (img_height, img_width),\n",
    "    batch_size=batch_size\n",
    "\n",
    ")"
   ]
  },
  {
   "cell_type": "code",
   "execution_count": null,
   "metadata": {
    "execution": {
     "iopub.execute_input": "2020-11-05T16:05:27.407Z",
     "iopub.status.busy": "2020-11-05T16:05:27.404Z",
     "iopub.status.idle": "2020-11-05T16:05:27.417Z",
     "shell.execute_reply": "2020-11-05T16:05:27.448Z"
    },
    "jupyter": {
     "outputs_hidden": false,
     "source_hidden": false
    },
    "nteract": {
     "transient": {
      "deleting": false
     }
    }
   },
   "outputs": [],
   "source": [
    "training_ds"
   ]
  },
  {
   "cell_type": "code",
   "execution_count": null,
   "metadata": {
    "execution": {
     "iopub.execute_input": "2020-11-05T16:05:27.426Z",
     "iopub.status.busy": "2020-11-05T16:05:27.423Z",
     "iopub.status.idle": "2020-11-05T16:05:27.430Z",
     "shell.execute_reply": "2020-11-05T16:05:27.451Z"
    },
    "jupyter": {
     "outputs_hidden": false,
     "source_hidden": false
    },
    "nteract": {
     "transient": {
      "deleting": false
     }
    }
   },
   "outputs": [],
   "source": [
    "class_names = training_ds.class_names\n",
    "class_names"
   ]
  },
  {
   "cell_type": "code",
   "execution_count": null,
   "metadata": {
    "execution": {
     "iopub.execute_input": "2020-11-05T16:05:27.438Z",
     "iopub.status.busy": "2020-11-05T16:05:27.435Z",
     "iopub.status.idle": "2020-11-05T16:05:28.928Z",
     "shell.execute_reply": "2020-11-05T16:05:28.953Z"
    },
    "jupyter": {
     "outputs_hidden": false,
     "source_hidden": false
    },
    "nteract": {
     "transient": {
      "deleting": false
     }
    }
   },
   "outputs": [],
   "source": [
    "plt.figure(figsize=(10, 10))\n",
    "for images, labels in training_ds.take(1):\n",
    "  for i in range(12):\n",
    "    ax = plt.subplot(3, 4, i + 1)\n",
    "    plt.imshow(images[i].numpy().astype(\"uint8\"))\n",
    "    plt.title(class_names[labels[i]])\n",
    "    plt.grid(True)"
   ]
  },
  {
   "cell_type": "code",
   "execution_count": null,
   "metadata": {
    "execution": {
     "iopub.execute_input": "2020-11-05T16:05:28.934Z",
     "iopub.status.busy": "2020-11-05T16:05:28.932Z",
     "iopub.status.idle": "2020-11-05T16:05:28.940Z",
     "shell.execute_reply": "2020-11-05T16:05:28.957Z"
    },
    "jupyter": {
     "outputs_hidden": false,
     "source_hidden": false
    },
    "nteract": {
     "transient": {
      "deleting": false
     }
    }
   },
   "outputs": [],
   "source": [
    "## Configuring dataset for performance\n",
    "AUTOTUNE = tf.data.experimental.AUTOTUNE\n",
    "training_ds = training_ds.cache().prefetch(buffer_size=AUTOTUNE)\n",
    "testing_ds = testing_ds.cache().prefetch(buffer_size=AUTOTUNE)"
   ]
  },
  {
   "cell_type": "code",
   "execution_count": 5,
   "metadata": {},
   "outputs": [],
   "source": [
    "from keras.models import Model\n",
    "from keras.layers import Input, Dense, Activation, Conv2D, MaxPooling2D, Flatten, BatchNormalization, Dropout\n",
    "from keras.optimizers import Adam\n",
    "from keras.preprocessing import image\n",
    "from keras.applications.resnet50 import preprocess_input, decode_predictions\n",
    "import datetime"
   ]
  },
  {
   "cell_type": "markdown",
   "metadata": {},
   "source": [
    "# Michaels Model"
   ]
  },
  {
   "cell_type": "markdown",
   "metadata": {},
   "source": [
    "inputs = Input(shape=(200, 200, 3))\n",
    "\n",
    "\n",
    "x = layers.experimental.preprocessing.Rescaling(1.0 / 255)\n",
    "x = layers.Conv2D(32, 3, strides=2, padding=\"same\")(inputs)\n",
    "x = layers.BatchNormalization()(x)\n",
    "x = layers.Activation(\"relu\")(x)\n",
    "\n",
    "x = layers.Conv2D(64, 3, padding=\"same\")(x)\n",
    "x = layers.BatchNormalization()(x)\n",
    "x = layers.Activation(\"relu\")(x)\n",
    "\n",
    "previous_block_activation = x  # Set aside residual\n",
    "\n",
    "\n",
    "\n",
    "x = layers.Dropout(0.25)(x)\n",
    "x = layers.Activation(\"relu\")(x)\n",
    "x = layers.SeparableConv2D(150, 3, padding=\"same\")(x)\n",
    "x = layers.BatchNormalization()(x)\n",
    "\n",
    "x = layers.Activation(\"relu\")(x)\n",
    "x = layers.SeparableConv2D(150, 3, padding=\"same\")(x)\n",
    "x = layers.BatchNormalization()(x)\n",
    "\n",
    "x = layers.MaxPooling2D(3, strides=2, padding=\"same\")(x)\n",
    "\n",
    "# Project residual\n",
    "residual = layers.Conv2D(150, 1, strides=2, padding=\"same\")(\n",
    "    previous_block_activation\n",
    ")\n",
    "x = layers.add([x, residual])  # Add back residual\n",
    "previous_block_activation = x  # Set aside next residual\n",
    "\n",
    "\n",
    "\n",
    "\n",
    "x = layers.Dropout(0.25)(x)\n",
    "x = layers.Activation(\"relu\")(x)\n",
    "x = layers.SeparableConv2D(300, 3, padding=\"same\")(x)\n",
    "x = layers.BatchNormalization()(x)\n",
    "\n",
    "x = layers.Activation(\"relu\")(x)\n",
    "x = layers.SeparableConv2D(300, 3, padding=\"same\")(x)\n",
    "x = layers.BatchNormalization()(x)\n",
    "\n",
    "x = layers.MaxPooling2D(3, strides=2, padding=\"same\")(x)\n",
    "\n",
    "# Project residual\n",
    "residual = layers.Conv2D(300, 1, strides=2, padding=\"same\")(\n",
    "    previous_block_activation\n",
    ")\n",
    "x = layers.add([x, residual])  # Add back residual\n",
    "previous_block_activation = x  # Set aside next residual\n",
    "\n",
    "\n",
    "\n",
    "\n",
    "x = layers.Dropout(0.25)(x)\n",
    "x = layers.Activation(\"relu\")(x)\n",
    "x = layers.SeparableConv2D(500, 3, padding=\"same\")(x)\n",
    "x = layers.BatchNormalization()(x)\n",
    "\n",
    "x = layers.Activation(\"relu\")(x)\n",
    "x = layers.SeparableConv2D(500, 3, padding=\"same\")(x)\n",
    "x = layers.BatchNormalization()(x)\n",
    "\n",
    "x = layers.MaxPooling2D(3, strides=2, padding=\"same\")(x)\n",
    "\n",
    "# Project residual\n",
    "residual = layers.Conv2D(500, 1, strides=2, padding=\"same\")(\n",
    "    previous_block_activation\n",
    ")\n",
    "x = layers.add([x, residual])  # Add back residual\n",
    "previous_block_activation = x  # Set aside next residual\n",
    "\n",
    "\n",
    "\n",
    "\n",
    "x = layers.Activation(\"relu\")(x)\n",
    "x = layers.SeparableConv2D(800, 3, padding=\"same\")(x)\n",
    "x = layers.BatchNormalization()(x)\n",
    "\n",
    "x = layers.Activation(\"relu\")(x)\n",
    "x = layers.SeparableConv2D(800, 3, padding=\"same\")(x)\n",
    "x = layers.BatchNormalization()(x)\n",
    "\n",
    "x = layers.MaxPooling2D(3, strides=2, padding=\"same\")(x)\n",
    "\n",
    "# Project residual\n",
    "residual = layers.Conv2D(800, 1, strides=2, padding=\"same\")(\n",
    "    previous_block_activation\n",
    ")\n",
    "x = layers.add([x, residual])  # Add back residual\n",
    "previous_block_activation = x  # Set aside next residual\n",
    "\n",
    "\n",
    "\n",
    "\n",
    "x = layers.Activation(\"relu\")(x)\n",
    "x = layers.SeparableConv2D(1000, 3, padding=\"same\")(x)\n",
    "x = layers.BatchNormalization()(x)\n",
    "\n",
    "x = layers.Activation(\"relu\")(x)\n",
    "x = layers.SeparableConv2D(1000, 3, padding=\"same\")(x)\n",
    "x = layers.BatchNormalization()(x)\n",
    "\n",
    "x = layers.MaxPooling2D(3, strides=2, padding=\"same\")(x)\n",
    "\n",
    "# Project residual\n",
    "residual = layers.Conv2D(1000, 1, strides=2, padding=\"same\")(\n",
    "    previous_block_activation\n",
    ")\n",
    "x = layers.add([x, residual])  # Add back residual\n",
    "previous_block_activation = x  # Set aside next residual\n",
    "\n",
    "\n",
    "\n",
    "\n",
    "x = layers.SeparableConv2D(1024, 3, padding=\"same\")(x)\n",
    "x = layers.BatchNormalization()(x)\n",
    "x = layers.Activation(\"relu\")(x)\n",
    "\n",
    "x = layers.GlobalAveragePooling2D()(x)\n",
    "activation = \"sigmoid\"\n",
    "units = 1\n",
    "\n",
    "x = layers.Dropout(0.5)(x)\n",
    "outputs = layers.Dense(units, activation=activation)(x)\n",
    "\n",
    "model = Model(inputs=inputs, outputs=outputs)\n",
    "model.summary()"
   ]
  },
  {
   "cell_type": "markdown",
   "metadata": {},
   "source": [
    "model.compile(\n",
    "    optimizer=Adam(1e-3),\n",
    "    loss=\"binary_crossentropy\",\n",
    "    metrics=[\"accuracy\"],\n",
    ")\n",
    "\n",
    "model.fit(\n",
    "    training_ds, epochs=3, validation_data=testing_ds,\n",
    ")"
   ]
  },
  {
   "cell_type": "markdown",
   "metadata": {},
   "source": [
    "# My Model"
   ]
  },
  {
   "cell_type": "code",
   "execution_count": null,
   "metadata": {},
   "outputs": [],
   "source": [
    "#My Model\n",
    "loss = 'categorical_crossentropy'\n",
    "opt = Adam(lr=.001)\n",
    "\n",
    "inputs = Input(shape=(img_width, img_height, 3))\n",
    "\n",
    "# 2 Convolutional layers each followed by max pooling\n",
    "x = Conv2D(32, kernel_size=(5, 5), kernel_initializer='he_normal')(inputs)\n",
    "x = BatchNormalization()(x)\n",
    "x = Activation('relu')(x)\n",
    "x = MaxPooling2D(pool_size=(2, 2))(x)\n",
    "\n",
    "x = Conv2D(64, kernel_size=(3, 3), activation='relu', kernel_initializer='he_normal')(x)\n",
    "x = BatchNormalization()(x)\n",
    "x = Activation('relu')(x)\n",
    "x = MaxPooling2D(pool_size=(2, 2))(x)\n",
    "\n",
    "# Here we'll add a single Dense layer before the prediction\n",
    "x = Flatten()(x)\n",
    "x = Dense(128, activation='relu', kernel_initializer='he_normal')(x)\n",
    "x = Dropout(0.5)(x)\n",
    "predictions = Dense(1, activation='sigmoid')(x)\n",
    "\n",
    "model = Model(inputs=inputs, outputs=predictions)\n",
    "model.summary()"
   ]
  },
  {
   "cell_type": "code",
   "execution_count": null,
   "metadata": {
    "scrolled": true
   },
   "outputs": [],
   "source": [
    "opt = keras.optimizers.Adam(learning_rate=1e-6)\n",
    "\n",
    "log_dir = \"logs/fit/\" + datetime.datetime.now().strftime(\"%Y%m%d-%H%M%S\")\n",
    "tensorboard_callback = tf.keras.callbacks.TensorBoard(log_dir=log_dir, histogram_freq=1)\n",
    "\n",
    "model.compile(optimizer=opt,\n",
    "              loss='binary_crossentropy',\n",
    "             metrics=['accuracy'])\n",
    "\n",
    "\n",
    "model.fit(training_ds, epochs=10,\n",
    "          batch_size=batch_size,\n",
    "          validation_data=testing_ds,\n",
    "          callbacks=[tensorboard_callback]\n",
    ")"
   ]
  },
  {
   "cell_type": "code",
   "execution_count": null,
   "metadata": {},
   "outputs": [],
   "source": [
    "%load_ext tensorboard\n",
    "# Clear any logs from previous runs\n",
    "#rm -rf ./logs/\n",
    "%tensorboard --logdir logs/fit"
   ]
  },
  {
   "cell_type": "markdown",
   "metadata": {
    "nteract": {
     "transient": {
      "deleting": false
     }
    }
   },
   "source": [
    "# Now build a deep neural network and train it and see how you do"
   ]
  },
  {
   "cell_type": "code",
   "execution_count": null,
   "metadata": {},
   "outputs": [],
   "source": [
    "from sklearn.metrics import classification_report, confusion_matrix"
   ]
  },
  {
   "cell_type": "code",
   "execution_count": null,
   "metadata": {
    "scrolled": true
   },
   "outputs": [],
   "source": [
    "Y_pred = model.predict(testing_ds)\n",
    "y_pred = [1 * (x[0]>=0.5) for x in Y_pred]\n",
    "y_true = np.concatenate([y for x, y in testing_ds], axis=0)\n",
    "\n",
    "print(confusion_matrix(y_true, y_pred))\n",
    "print(classification_report(y_true, y_pred))"
   ]
  },
  {
   "cell_type": "code",
   "execution_count": null,
   "metadata": {},
   "outputs": [],
   "source": [
    "model.save('MichaelModelMNM')"
   ]
  },
  {
   "cell_type": "markdown",
   "metadata": {
    "nteract": {
     "transient": {
      "deleting": false
     }
    }
   },
   "source": []
  },
  {
   "cell_type": "code",
   "execution_count": null,
   "metadata": {},
   "outputs": [],
   "source": []
  },
  {
   "cell_type": "code",
   "execution_count": 6,
   "metadata": {},
   "outputs": [],
   "source": [
    "import matplotlib.pyplot as plt\n",
    "import numpy as np\n",
    "from keras.preprocessing.image import load_img\n",
    "from keras.preprocessing import image\n",
    "from keras.preprocessing.image import img_to_array\n",
    "import matplotlib.image as mpimg"
   ]
  },
  {
   "cell_type": "code",
   "execution_count": 14,
   "metadata": {},
   "outputs": [],
   "source": [
    "labels = [\"Without Mask\", \"With Mask\"]\n",
    "def classify(img_path, saved_model='../MarshalMaskNoMaskModel'):\n",
    "    img = image.load_img(img_path, target_size=(200, 200))\n",
    "    img_array = image.img_to_array(img)\n",
    "\n",
    "    img_batch = np.expand_dims(img_array, axis=0)\n",
    "\n",
    "    img_preprocessed = preprocess_input(img_batch)\n",
    "\n",
    "    model = model = tf.keras.models.load_model(saved_model, compile = True)\n",
    "    prediction = model.predict(img_preprocessed)\n",
    "    \n",
    "    prediction_classes = prediction[0]\n",
    "    prediction_classes = prediction_classes[0]\n",
    "    prediction_classes = int(round(prediction_classes))\n",
    "    predicted_label = labels[prediction_classes]\n",
    "    \n",
    "    img = mpimg.imread(img_path)\n",
    "    imgplot = plt.imshow(img)\n",
    "    plt.show()\n",
    "    print(prediction)\n",
    "    print(predicted_label)\n"
   ]
  },
  {
   "cell_type": "code",
   "execution_count": 33,
   "metadata": {},
   "outputs": [
    {
     "name": "stdout",
     "output_type": "stream",
     "text": [
      "WARNING:tensorflow:11 out of the last 11 calls to <function Model.make_predict_function.<locals>.predict_function at 0x00000210C15BE678> triggered tf.function retracing. Tracing is expensive and the excessive number of tracings could be due to (1) creating @tf.function repeatedly in a loop, (2) passing tensors with different shapes, (3) passing Python objects instead of tensors. For (1), please define your @tf.function outside of the loop. For (2), @tf.function has experimental_relax_shapes=True option that relaxes argument shapes that can avoid unnecessary retracing. For (3), please refer to https://www.tensorflow.org/tutorials/customization/performance#python_or_tensor_args and https://www.tensorflow.org/api_docs/python/tf/function for  more details.\n"
     ]
    },
    {
     "data": {
      "image/png": "[encoded data removed]",
      "text/plain": [
       "<Figure size 432x288 with 1 Axes>"
      ]
     },
     "metadata": {
      "needs_background": "light"
     },
     "output_type": "display_data"
    },
    {
     "name": "stdout",
     "output_type": "stream",
     "text": [
      "[[0.09772995]]\n",
      "Without Mask\n"
     ]
    }
   ],
   "source": [
    "classify(\"newData/2IMG_8241.jpg\")"
   ]
  },
  {
   "cell_type": "code",
   "execution_count": null,
   "metadata": {},
   "outputs": [],
   "source": []
  }
 ],
 "metadata": {
  "kernel_info": {
   "name": "python3"
  },
  "kernelspec": {
   "display_name": "Python 3",
   "language": "python",
   "name": "python3"
  },
  "language_info": {
   "codemirror_mode": {
    "name": "ipython",
    "version": 3
   },
   "file_extension": ".py",
   "mimetype": "text/x-python",
   "name": "python",
   "nbconvert_exporter": "python",
   "pygments_lexer": "ipython3",
   "version": "3.7.6"
  },
  "nteract": {
   "version": "0.25.0"
  }
 },
 "nbformat": 4,
 "nbformat_minor": 1
}
